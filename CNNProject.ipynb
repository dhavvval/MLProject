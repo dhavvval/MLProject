{
 "cells": [
  {
   "cell_type": "code",
   "execution_count": 73,
   "id": "3bd0e0cd-0c0e-453b-95e5-35edb1650a8b",
   "metadata": {},
   "outputs": [],
   "source": [
    "import os, sys\n",
    "sys.path.append('../MLinPhysics/python')\n",
    "\n",
    "# standard module for tabular data\n",
    "import pandas as pd\n",
    "\n",
    "# standard module for array manipulation\n",
    "import numpy as np\n",
    "\n",
    "# module to access data in Hierarchical Data Format (HDF or H5 format)\n",
    "import h5py\n",
    "\n",
    "# to reimport Python modules\n",
    "import importlib\n",
    "\n",
    "# standard module for high-quality plots\n",
    "import matplotlib as mp\n",
    "import matplotlib.pyplot as plt\n",
    "\n",
    "# standard research-level machine learning toolkit from Meta (FKA: FaceBook)\n",
    "import torch\n",
    "import torch.nn as nn\n",
    "import torch.nn.functional as F\n",
    "\n",
    "from tqdm import tqdm\n",
    "\n",
    "#from lossmonitor import TimeLeft\n",
    "\n",
    " #update fonts\n",
    "FONTSIZE = 12\n",
    "plt.rcParams.update({\n",
    "    \"text.usetex\": False, # turn off if the system can't find late\n",
    "    \"font.family\": \"sans-serif\",\n",
    "    \"font.sans-serif\": \"Helvetica\",\n",
    "    \"font.size\": FONTSIZE\n",
    "})\n",
    "\n",
    "# set a seed to ensure reproducibility\n",
    "seed = 42\n",
    "rnd  = np.random.RandomState(seed)"
   ]
  },
  {
   "cell_type": "code",
   "execution_count": 74,
   "id": "e27f2647-a0eb-4ac4-85cb-af3befd7660b",
   "metadata": {},
   "outputs": [],
   "source": [
    "\n",
    "from lossmonitor import TimeLeft"
   ]
  },
  {
   "cell_type": "code",
   "execution_count": 75,
   "id": "6eb4befc-b62d-468d-be2d-066b3867cff3",
   "metadata": {},
   "outputs": [
    {
     "name": "stdout",
     "output_type": "stream",
     "text": [
      "Loaded Training Events: 70000\n",
      "Loaded Test Events: 15000\n",
      "Loaded Validation Events: 15000\n"
     ]
    }
   ],
   "source": [
    "with h5py.File('train_data_equal.h5', 'r') as f:\n",
    "    dataset_structure = {key: list(f[key]) if isinstance(f[key], h5py.Group) else f[key].shape for key in f.keys()}\n",
    "    X_train = f['X_train'][:]\n",
    "    y_train = f['y_train'][:]\n",
    "\n",
    "with h5py.File('test_data_equal.h5', 'r') as f:\n",
    "    X_test = f['X_test'][:]\n",
    "    y_test = f['y_test'][:]\n",
    "\n",
    "with h5py.File('val_data_equal.h5', 'r') as f:\n",
    "    X_val = f['X_val'][:]\n",
    "    y_val = f['y_val'][:]\n",
    "\n",
    "print(f\"Loaded Training Events: {len(X_train)}\")\n",
    "print(f\"Loaded Test Events: {len(X_test)}\")\n",
    "print(f\"Loaded Validation Events: {len(X_val)}\")\n"
   ]
  },
  {
   "cell_type": "code",
   "execution_count": 76,
   "id": "ae2c6e27-f5f8-4aa2-9635-47e8af63a602",
   "metadata": {},
   "outputs": [
    {
     "name": "stdout",
     "output_type": "stream",
     "text": [
      "Label distribution in y_train: {np.float64(0.0): np.int64(35000), np.float64(1.0): np.int64(35000)}\n",
      "Label distribution in y_test: {np.float64(0.0): np.int64(7500), np.float64(1.0): np.int64(7500)}\n",
      "Label distribution in y_val: {np.float64(0.0): np.int64(7500), np.float64(1.0): np.int64(7500)}\n"
     ]
    }
   ],
   "source": [
    "import numpy as np\n",
    "\n",
    "# Count unique values and their occurrences\n",
    "unique_labels, counts = np.unique(y_train, return_counts=True)\n",
    "print(f\"Label distribution in y_train: {dict(zip(unique_labels, counts))}\")\n",
    "\n",
    "# Similarly for X_test and X_val\n",
    "unique_labels_test, counts_test = np.unique(y_test, return_counts=True)\n",
    "unique_labels_val, counts_val = np.unique(y_val, return_counts=True)\n",
    "\n",
    "print(f\"Label distribution in y_test: {dict(zip(unique_labels_test, counts_test))}\")\n",
    "print(f\"Label distribution in y_val: {dict(zip(unique_labels_val, counts_val))}\")\n"
   ]
  },
  {
   "cell_type": "code",
   "execution_count": 77,
   "id": "284e7805-9425-4179-826f-25cf79d488ac",
   "metadata": {},
   "outputs": [],
   "source": [
    "X_train = torch.tensor(X_train, dtype=torch.float32)\n",
    "y_train = torch.tensor(y_train, dtype=torch.float32)\n",
    "X_test = torch.tensor(X_test, dtype=torch.float32)\n",
    "y_test = torch.tensor(y_test, dtype=torch.float32)\n",
    "X_val = torch.tensor(X_val, dtype=torch.float32)\n",
    "y_val = torch.tensor(y_val, dtype=torch.float32)"
   ]
  },
  {
   "cell_type": "code",
   "execution_count": 78,
   "id": "e882a7d7-91cc-4055-9f39-6842f9f08043",
   "metadata": {},
   "outputs": [],
   "source": [
    "def delta_phi(phi2, phi1):\n",
    "    deltaphi = phi2 - phi1\n",
    "    abs_deltaphi = torch.abs(deltaphi)\n",
    "    deltaphi = torch.where(abs_deltaphi > torch.pi, \n",
    "                           2 * torch.pi - abs_deltaphi, \n",
    "                           abs_deltaphi)\n",
    "    return deltaphi\n",
    "\n",
    "def number_of_parameters(model):\n",
    "    return sum(p.numel() for p in model.parameters() if p.requires_grad)"
   ]
  },
  {
   "cell_type": "code",
   "execution_count": 79,
   "id": "0370cd1d-7177-4b07-b904-bbf128fb8daa",
   "metadata": {},
   "outputs": [
    {
     "name": "stdout",
     "output_type": "stream",
     "text": [
      "Available device: cpu \n"
     ]
    }
   ],
   "source": [
    "PARAMS_FILE = 'GNN.pth'\n",
    "LOSS_FILE = 'losses.csv'\n",
    "TIMELEFT_FILE = 'timeleft.txt'\n",
    "DEVICE = torch.device('cuda' if torch.cuda.is_available() else 'cpu')\n",
    "\n",
    "print(f'Available device: {str(DEVICE):4s}')"
   ]
  },
  {
   "cell_type": "code",
   "execution_count": 80,
   "id": "ac29d696-d38e-4693-b709-fabbb827bbc2",
   "metadata": {},
   "outputs": [],
   "source": [
    "class Edges(nn.Module):\n",
    "    '''\n",
    "    Given a set of vertices V, compute adjacency matrix of shape (n, n).\n",
    "    '''    \n",
    "    def __init__(self, alpha=1, device=DEVICE):\n",
    "\n",
    "        super().__init__()\n",
    "\n",
    "        # Note use of Parameter to tell PyTorch that the parameter alpha\n",
    "        # is to be fitted.\n",
    "        self.alpha = nn.Parameter(alpha * torch.rand(1))\n",
    "\n",
    "        self.device = device\n",
    "        \n",
    "    def forward(self, x):\n",
    "\n",
    "        # 1. compute square of Euclidean distance in (eta, phi) space\n",
    "        #    dR^2 = deta^2 + dphi^2\n",
    "        eta, phi = x[:, 1], x[:, 2]\n",
    "        # here is a nice example of the mechanism of broadcasting: \n",
    "        # by changing the shapes to view(-1, 1) and view(1, -1), we\n",
    "        # can, in a single line, compute all possible differences.\n",
    "        # consequently, the shapes of the following tensors will be (n, n)\n",
    "        deta = eta.view(-1, 1) - eta.view(1, -1)\n",
    "        dphi = delta_phi(phi.view(-1, 1), phi.view(1, -1))\n",
    "        dRdR = deta**2 + dphi**2\n",
    "\n",
    "        # 2. compute exp(- alpha * dR)**2)\n",
    "        A = torch.exp(-self.alpha * dRdR)\n",
    "\n",
    "        # 3. apply softmax in horizontal direction.\n",
    "        #    adding a unit matrix to the adjacency matrix \n",
    "        #    makes the training more stable. we need to send\n",
    "        #    the unit matrix to the computatational device.\n",
    "        A = torch.softmax(A, dim=1) + torch.eye(len(x)).to(self.device)\n",
    "        \n",
    "        return A"
   ]
  },
  {
   "cell_type": "code",
   "execution_count": 81,
   "id": "8be57845-d23b-43fb-8fe6-48f92dcbb482",
   "metadata": {},
   "outputs": [],
   "source": [
    "class GCNLayer(nn.Module):\n",
    "    \n",
    "    def __init__(self, in_features, out_features, scale=0.05):\n",
    "\n",
    "        # initialize base class\n",
    "        super().__init__()\n",
    "\n",
    "        # we embed the \"n\" input vertices in a larger vector space \n",
    "        # of dimension h = out_features\n",
    "        self.embed  = nn.Linear(in_features, out_features)\n",
    "        \n",
    "        self.weight = nn.Parameter(scale * (2*torch.rand(out_features, out_features)-1.0))\n",
    "        self.bias   = nn.Parameter(scale * (2*torch.rand(1)-1.0))\n",
    "\n",
    "    def forward(self, X, A):\n",
    "\n",
    "        # embed vertices in a larger vector space\n",
    "        X = self.embed(X)\n",
    "        X = F.relu(X)\n",
    "\n",
    "        # perform graph convolution. for each vertex, this operation\n",
    "        # performs a weighted sum of the features of all other vertices,\n",
    "        # weighting the nearest neighbors more heavily.\n",
    "        # AX = A * X\n",
    "        AX = torch.matmul(A, X)\n",
    "\n",
    "        # compute (A * X) * W + B * I\n",
    "        X = torch.matmul(AX, self.weight) + self.bias * torch.ones_like(X)\n",
    "        X = F.relu(X)\n",
    "\n",
    "        # return modified vertices  \n",
    "        return X\n",
    "\n",
    "class VerticalSum(nn.Module):\n",
    "    '''\n",
    "    Perform a permutation and vertex count-invariant operation on the\n",
    "    vertices of a graph.\n",
    "    '''\n",
    "    def __init__(self):\n",
    "        super().__init__()\n",
    "        \n",
    "    def forward(self, x):\n",
    "        x = x.sum(dim=0)\n",
    "        return x"
   ]
  },
  {
   "cell_type": "code",
   "execution_count": 82,
   "id": "32776e4a-14c3-4b89-9272-0c7e582cc388",
   "metadata": {},
   "outputs": [],
   "source": [
    "class GNN(nn.Module):\n",
    "    \n",
    "    def __init__(self, n_dim, n_embed=40):\n",
    "\n",
    "        # initialize base class\n",
    "        super().__init__()\n",
    "\n",
    "        self.edges  = Edges()\n",
    "        self.gconv1 = GCNLayer(n_dim,   n_embed)\n",
    "        self.gconv2 = GCNLayer(n_embed, n_embed)\n",
    "        self.vsum   = VerticalSum()\n",
    "        self.linear = nn.Linear(n_embed, 1)\n",
    "\n",
    "    def forward(self, x):\n",
    "\n",
    "        # construct n x n adjacency matrix which together\n",
    "        # with the vertices V = x forms the graph G = (V, E)\n",
    "        V = x\n",
    "        E = self.edges(V)\n",
    "        \n",
    "        # pass graph G = (V, E) through multiple\n",
    "        # graph convolution layers (graph processors)\n",
    "        V = self.gconv1(V, E)\n",
    "        V = F.relu(V)\n",
    "        \n",
    "        V = self.gconv2(V, E)\n",
    "        V = F.relu(V)\n",
    "        \n",
    "        # apply a permutation- and vertex count-invariant\n",
    "        # function to the vertices \n",
    "        x = self.vsum(V)\n",
    "\n",
    "        # complete with a simple MLP\n",
    "        x = self.linear(x)     \n",
    "        x = F.sigmoid(x)\n",
    "        \n",
    "        return x\n",
    "\n",
    "    def save(self, paramsfile):\n",
    "        # save parameters of neural network\n",
    "        torch.save(self.state_dict(), paramsfile)\n",
    "\n",
    "    def load(self, paramsfile):\n",
    "        # load parameters of neural network\n",
    "        self.eval()\n",
    "        self.load_state_dict(torch.load(paramsfile))"
   ]
  },
  {
   "cell_type": "code",
   "execution_count": 83,
   "id": "980b61f1-7086-4c8e-a4dd-cc074ba31710",
   "metadata": {},
   "outputs": [],
   "source": [
    "# Note: there are several average loss functions available \n",
    "# in PyTorch, but it's useful to know how to create your own.\n",
    "def average_quadratic_loss(f, t):\n",
    "    # f and t must be of the same shape\n",
    "    return  torch.mean((f - t)**2)\n",
    "\n",
    "def average_cross_entropy_loss(f, t):\n",
    "    # f and t must be of the same shape\n",
    "    # f = torch.where(f >= 1, 0.9999, f)\n",
    "    losses = torch.where(t > 0.5, torch.log(f), torch.log(1-f))\n",
    "    return -torch.mean(losses)"
   ]
  },
  {
   "cell_type": "code",
   "execution_count": 84,
   "id": "6879c582-4d4b-49fa-88fa-36c6fddeb9a1",
   "metadata": {},
   "outputs": [],
   "source": [
    "def empirical_risk(model, lossfn, X, Y):        \n",
    "    out = model(X[0]) \n",
    "    loss = lossfn(out, Y[0])\n",
    "\n",
    "    for x, y in zip(X[1:], Y[1:]):\n",
    "        out = model(x)\n",
    "        loss += lossfn(out, y)\n",
    "    loss /= len(X)\n",
    "    return loss\n",
    "\n",
    "def emprirical_risk_one_at_a_time(x, batch_size):\n",
    "    indices = torch.randint(0, len(x)-1, size=(batch_size,))\n",
    "    return x[indices]"
   ]
  },
  {
   "cell_type": "code",
   "execution_count": 85,
   "id": "c884f1da-42e8-482a-9c05-2a35490021c9",
   "metadata": {},
   "outputs": [],
   "source": [
    "class DataLoader:\n",
    "    \n",
    "    def __init__(self, X, T, batch_size=1):\n",
    "        self.X = X\n",
    "        self.T = T\n",
    "        \n",
    "        self.B = batch_size\n",
    "        self.N = len(X)\n",
    "        \n",
    "        self.reset()\n",
    "        \n",
    "    def reset(self):\n",
    "        self.A = self.N / self.B\n",
    "        self.J = int(self.A) + 1\n",
    "        \n",
    "        self.start = 0\n",
    "        self.end = B\n",
    "        self.ii = -1\n",
    "        \n",
    "    def __call__(self, ii=-1):\n",
    "\n",
    "        if ii > self.ii:\n",
    "\n",
    "            # update start and end of batch\n",
    "            \n",
    "            if self.B < 2:  # assume random selection\n",
    "                self.start = torch.randint(0, self.N-1, size=(1,))\n",
    "                self.end = self.start + 1\n",
    "                \n",
    "            else: \n",
    "                self.J += 1\n",
    "                if self.J >= self.A:\n",
    "                    self.J = 0\n",
    "                    self.start = 0\n",
    "                    self.end = self.B\n",
    "                else:\n",
    "                    self.start += self.B\n",
    "                    self.end = self.start + self.B\n",
    "                    if self.end > self.N:\n",
    "                        self.end = self.N\n",
    "\n",
    "        self.ii = ii\n",
    "        \n",
    "        return self.X[self.start:self.end], self.T[self.start:self.end]"
   ]
  },
  {
   "cell_type": "code",
   "execution_count": 86,
   "id": "b003d6fc-6396-469b-b35b-003db9e54103",
   "metadata": {},
   "outputs": [],
   "source": [
    "def train(model, optimizer, lossfn, \n",
    "          t_dataloader, v_dataloader1, v_dataloader2,\n",
    "          number_iterations,\n",
    "          lossfile=LOSS_FILE,\n",
    "          timeleftfile=TIMELEFT_FILE,\n",
    "          paramsfile=PARAMS_FILE,\n",
    "          step=100):\n",
    "\n",
    "    # start saving model parameters after the following number of iterations.\n",
    "    start_saving = number_iterations // 100\n",
    "    min_avloss   = float('inf')  # initialize minimum average loss\n",
    "\n",
    "    # initialize loss file\n",
    "    # create loss file if it does not exist\n",
    "    if not os.path.exists(lossfile):\n",
    "        open(lossfile, 'w').write('iteration,t_loss,v_loss\\n')  \n",
    "\n",
    "    # get last iteration number from loss file\n",
    "    df = pd.read_csv(lossfile)\n",
    "    if len(df) < 1:\n",
    "        itno = 0\n",
    "    else:\n",
    "        itno = df.iteration.iloc[-1] # get last iteration number\n",
    "\n",
    "    # ------------------------------------------\n",
    "    # enter training loop\n",
    "    # ------------------------------------------\n",
    "    timeleft = TimeLeft(number_iterations)\n",
    "    \n",
    "    for ii in range(number_iterations):\n",
    "        \n",
    "        # set mode to training so that training-specific \n",
    "        # operations such as dropout, etc., are enabled.\n",
    "\n",
    "        model.train() # training mode\n",
    "\n",
    "        x, y = t_dataloader(ii)\n",
    "        \n",
    "        loss = empirical_risk(model, lossfn, x, y)\n",
    "    \n",
    "        optimizer.zero_grad()  # clear previous gradients\n",
    "    \n",
    "        loss.backward()        # compute gradients\n",
    "    \n",
    "        optimizer.step()       # move one step\n",
    "    \n",
    "        # i'm alive printout\n",
    "        \n",
    "        if (ii % step == 0) and (ii > 0):\n",
    "\n",
    "            with torch.no_grad():\n",
    "                \n",
    "                model.eval()\n",
    "                \n",
    "                # compute average loss on train data\n",
    "                x, y = v_dataloader1()\n",
    "                t_loss = empirical_risk(model, lossfn, x, y).detach()\n",
    "\n",
    "                # compute average loss on validation data\n",
    "                x, y = v_dataloader2()\n",
    "                v_loss = empirical_risk(model, lossfn, x, y).detach()\n",
    "     \n",
    "            # update loss file\n",
    "            \n",
    "            open(loss_file, 'a').write(f'{itno:12d},{t_loss:12.8},{v_loss:12.8}\\n')\n",
    "\n",
    "            # save model paramters to file\n",
    "            \n",
    "            if v_loss < min_avloss:\n",
    "                min_avloss = v_loss\n",
    "                if ii > start_saving:\n",
    "                    model.save(paramsfile)\n",
    "\n",
    "            # update time left file\n",
    "            \n",
    "            line = f'|{itno:12d}|{t_loss:12.8f}|{v_loss:12.8f}|'\n",
    "            timeleft(ii, line)\n",
    "            open(timeleftfile, 'w').write(f'{str(timeleft):s}\\n')\n",
    "\n",
    "            # update iteration number\n",
    "            \n",
    "            itno += step\n",
    "\n",
    "    print()      \n",
    "    return "
   ]
  },
  {
   "cell_type": "code",
   "execution_count": 87,
   "id": "5da8de1a-b20c-421c-8641-2289dcaabe6d",
   "metadata": {},
   "outputs": [
    {
     "name": "stdout",
     "output_type": "stream",
     "text": [
      "number of parameters: 5044\n",
      "GNN(\n",
      "  (edges): Edges()\n",
      "  (gconv1): GCNLayer(\n",
      "    (embed): Linear(in_features=3, out_features=40, bias=True)\n",
      "  )\n",
      "  (gconv2): GCNLayer(\n",
      "    (embed): Linear(in_features=40, out_features=40, bias=True)\n",
      "  )\n",
      "  (vsum): VerticalSum()\n",
      "  (linear): Linear(in_features=40, out_features=1, bias=True)\n",
      ")\n",
      "\n",
      "edges.alpha\n",
      "gconv1.weight\n",
      "gconv1.bias\n",
      "gconv1.embed.weight\n",
      "gconv1.embed.bias\n",
      "gconv2.weight\n",
      "gconv2.bias\n",
      "gconv2.embed.weight\n",
      "gconv2.embed.bias\n",
      "linear.weight\n",
      "linear.bias\n"
     ]
    }
   ],
   "source": [
    "_, n_dimensions = X_train[0].shape\n",
    "\n",
    "model = GNN(n_dimensions).to(DEVICE)\n",
    "print('number of parameters:', number_of_parameters(model))\n",
    "\n",
    "print(model)\n",
    "print()\n",
    "\n",
    "for name, p in model.named_parameters():\n",
    "    if p.requires_grad:\n",
    "        print(name)\n",
    "        #print(p)\n",
    "        #print()"
   ]
  },
  {
   "cell_type": "code",
   "execution_count": 88,
   "id": "8b8a4137-e8d4-43c3-b11f-7db3921559a6",
   "metadata": {},
   "outputs": [
    {
     "name": "stdout",
     "output_type": "stream",
     "text": [
      "    0\t[0, 1, 2] \t[0, 11, 22]\n",
      "    1\t[3, 4, 5] \t[33, 44, 55]\n",
      "    2\t[6]       \t[66]      \n",
      "    3\t[0, 1, 2] \t[0, 11, 22]\n",
      "    4\t[3, 4, 5] \t[33, 44, 55]\n",
      "    5\t[6]       \t[66]      \n",
      "    6\t[0, 1, 2] \t[0, 11, 22]\n",
      "    7\t[3, 4, 5] \t[33, 44, 55]\n",
      "    8\t[6]       \t[66]      \n",
      "    9\t[0, 1, 2] \t[0, 11, 22]\n",
      "\n",
      "    0\t[0, 1, 2] \t[0, 11, 22]\n",
      "    1\t[0, 1, 2] \t[0, 11, 22]\n",
      "    2\t[0, 1, 2] \t[0, 11, 22]\n",
      "    3\t[0, 1, 2] \t[0, 11, 22]\n",
      "    4\t[0, 1, 2] \t[0, 11, 22]\n",
      "    5\t[0, 1, 2] \t[0, 11, 22]\n",
      "    6\t[0, 1, 2] \t[0, 11, 22]\n",
      "    7\t[0, 1, 2] \t[0, 11, 22]\n",
      "    8\t[0, 1, 2] \t[0, 11, 22]\n",
      "    9\t[0, 1, 2] \t[0, 11, 22]\n"
     ]
    }
   ],
   "source": [
    "X = [0,1,2,3,4,5,6]\n",
    "Y = [0,11,22,33,44,55,66]\n",
    "B = 3\n",
    "dataloader = DataLoader(X, Y, B)\n",
    "\n",
    "for i in range(10):\n",
    "    x, y = dataloader(i)\n",
    "    print(f'{i:5d}\\t{str(x):10s}\\t{str(y):10s}')\n",
    "\n",
    "print()\n",
    "\n",
    "dataloader.reset()\n",
    "\n",
    "for i in range(10):\n",
    "    x, y = dataloader()\n",
    "    print(f'{i:5d}\\t{str(x):10s}\\t{str(y):10s}')\n"
   ]
  },
  {
   "cell_type": "code",
   "execution_count": 89,
   "id": "31039b65-e683-421c-af68-5350142a51bb",
   "metadata": {},
   "outputs": [],
   "source": [
    "loss_file = LOSS_FILE\n",
    "timeleft_file = TIMELEFT_FILE\n",
    "params_file = PARAMS_FILE\n",
    "\n",
    "n_iterations = 500000\n",
    "step = 100\n",
    "learning_rate = 1e-4\n",
    "\n",
    "optimizer = torch.optim.Adam(model.parameters(), lr=learning_rate)\n",
    "\n",
    "avloss = average_cross_entropy_loss\n",
    "\n",
    "t_dataloader  = DataLoader(X_train, y_train)\n",
    "v_dataloader1 = DataLoader(X_train, y_train, 15000)\n",
    "v_dataloader2 = DataLoader(X_val, y_val, 15000)"
   ]
  },
  {
   "cell_type": "code",
   "execution_count": 90,
   "id": "74266707-24de-4fb9-802f-5f99a5bab11c",
   "metadata": {},
   "outputs": [
    {
     "name": "stdout",
     "output_type": "stream",
     "text": [
      "    499901| 99.98%|00:24:11/00:00:00| 344.3 it/s|      499800|  0.39898160|  0.08893746|\n"
     ]
    }
   ],
   "source": [
    "DELETE_LOSS_FILE = True\n",
    "n_iterations = 500000\n",
    "if DELETE_LOSS_FILE:\n",
    "    os.system(f'rm -f {loss_file:s}')\n",
    "\n",
    "train(model, optimizer, avloss, \n",
    "      t_dataloader, v_dataloader1, v_dataloader2, \n",
    "      n_iterations,\n",
    "      loss_file, timeleft_file, params_file, \n",
    "      step)"
   ]
  },
  {
   "cell_type": "code",
   "execution_count": 91,
   "id": "212c0631-8221-47aa-898f-8fdaf20e1f1e",
   "metadata": {},
   "outputs": [],
   "source": [
    "def plot_confusion_matrix(y, y_pred, gfile='confusion_matrix.png'):\n",
    "    from sklearn.metrics import confusion_matrix\n",
    "    \n",
    "    # Calculate the confusion matrix\n",
    "    conf_matrix = confusion_matrix(y_true=y, y_pred=y_pred)\n",
    "\n",
    "    # plot the confusion matrix using matplotlib\n",
    "    fig, ax = plt.subplots(figsize=(4, 4))\n",
    "    ax.matshow(conf_matrix, cmap=plt.cm.rainbow, alpha=0.4)\n",
    "\n",
    "    # annotate each plot with target\n",
    "    for i in range(conf_matrix.shape[0]):\n",
    "        for j in range(conf_matrix.shape[1]):\n",
    "            ax.text(x=j, y=i, s=conf_matrix[i, j], \n",
    "                    va='center', ha='center', size='x-large')\n",
    " \n",
    "    plt.xlabel('Predicted Labels', fontsize=16)\n",
    "    plt.ylabel('True Labels', fontsize=16)\n",
    "    plt.title(f'Confusion Matrix', fontsize=16)\n",
    "    \n",
    "    fig.tight_layout()\n",
    "    plt.savefig(gfile)"
   ]
  },
  {
   "cell_type": "code",
   "execution_count": 92,
   "id": "56a45135-7bd1-4a40-b4d5-e91d073fe03f",
   "metadata": {},
   "outputs": [
    {
     "name": "stderr",
     "output_type": "stream",
     "text": [
      "/var/folders/9x/5y5sll196kv_267td22lbxpc0000gn/T/ipykernel_33921/1992149069.py:46: FutureWarning: You are using `torch.load` with `weights_only=False` (the current default value), which uses the default pickle module implicitly. It is possible to construct malicious pickle data which will execute arbitrary code during unpickling (See https://github.com/pytorch/pytorch/blob/main/SECURITY.md#untrusted-models for more details). In a future release, the default value for `weights_only` will be flipped to `True`. This limits the functions that could be executed during unpickling. Arbitrary objects will no longer be allowed to be loaded via this mode unless they are explicitly allowlisted by the user via `torch.serialization.add_safe_globals`. We recommend you start setting `weights_only=True` for any use case where you don't have full control of the loaded file. Please open an issue on GitHub for any issues related to this experimental feature.\n",
      "  self.load_state_dict(torch.load(paramsfile))\n",
      "100%|██████████| 15000/15000 [00:27<00:00, 548.60it/s]\n"
     ]
    }
   ],
   "source": [
    "model.load(params_file)\n",
    "\n",
    "y_hat = []\n",
    "for i in tqdm(range(len(X_test))):\n",
    "    y_hat.append(float(model(X_test[i]).data.cpu()))\n",
    "\n",
    "y_hat  = np.array(y_hat)\n",
    "y_pred = (y_hat > 0.5).astype(int)\n",
    "y_true = y_test.data.cpu().numpy()"
   ]
  },
  {
   "cell_type": "code",
   "execution_count": 93,
   "id": "54c06c27-a595-415f-99f9-4e47939d7c13",
   "metadata": {},
   "outputs": [
    {
     "data": {
      "image/png": "[encoded data removed]",
      "text/plain": [
       "<Figure size 400x400 with 1 Axes>"
      ]
     },
     "metadata": {},
     "output_type": "display_data"
    }
   ],
   "source": [
    "plot_confusion_matrix(y_true, y_pred)"
   ]
  },
  {
   "cell_type": "code",
   "execution_count": 94,
   "id": "e40200bb-57a7-4c03-93d6-72f483278b17",
   "metadata": {},
   "outputs": [
    {
     "data": {
      "image/png": "[encoded data removed]",
      "text/plain": [
       "<Figure size 500x400 with 1 Axes>"
      ]
     },
     "metadata": {},
     "output_type": "display_data"
    }
   ],
   "source": [
    "def plot_outputs(y, yhat, \n",
    "                 xbins=50, xmin=0, xmax=1,\n",
    "                 ymin=0, ymax=800, \n",
    "                 filename='outputs.png',\n",
    "                 fgsize=(5, 4),\n",
    "                 ftsize=14):\n",
    "\n",
    "    # create an empty figure\n",
    "    fig = plt.figure(figsize=fgsize)\n",
    "    \n",
    "    nrows, ncols, index = 1, 1, 1\n",
    "    ax = fig.add_subplot(nrows, ncols, index)\n",
    "        \n",
    "    # setup axes\n",
    "    ax.set_xlim(xmin, xmax)\n",
    "    ax.set_ylim(ymin, ymax)\n",
    "\n",
    "    ax.set_xlabel(r'$y = D(G)$', fontsize=ftsize)\n",
    "    ax.set_ylabel(r'count', fontsize=ftsize)\n",
    "\n",
    "    s = yhat[y > 0.5]\n",
    "    b = yhat[y < 0.5]\n",
    "    \n",
    "    ax.hist(s, bins=xbins, range=(xmin, xmax), color='blue', alpha=0.3, label='signal')\n",
    "    ax.hist(b, bins=xbins, range=(xmin, xmax), color='red', alpha=0.3, label='background')\n",
    "    ax.legend()\n",
    "    \n",
    "    fig.tight_layout()\n",
    "    plt.savefig(filename)\n",
    "\n",
    "plot_outputs(y_true, y_hat)"
   ]
  },
  {
   "cell_type": "code",
   "execution_count": null,
   "id": "e2af0d42-3aa7-4217-a1fa-f2c45ef29e60",
   "metadata": {},
   "outputs": [],
   "source": []
  },
  {
   "cell_type": "code",
   "execution_count": 95,
   "id": "e2a557f3-ce26-48ad-a5a4-cd202e733130",
   "metadata": {},
   "outputs": [
    {
     "data": {
      "image/png": "[encoded data removed]",
      "text/plain": [
       "<Figure size 400x380 with 1 Axes>"
      ]
     },
     "metadata": {},
     "output_type": "display_data"
    }
   ],
   "source": [
    "def plot_roc(y, yhat):\n",
    "    # standard measures of model performance\n",
    "    from sklearn.metrics import roc_curve, auc\n",
    "\n",
    "    bkg, sig, _ = roc_curve(y, yhat)\n",
    "    \n",
    "    roc_auc = auc(bkg, sig)\n",
    "    \n",
    "    fig = plt.figure(figsize=(4.0, 3.8))\n",
    "\n",
    "    plt.xlim([0.0, 1.0])\n",
    "    plt.ylim([0.0, 1.0])\n",
    "    plt.xlabel('$P(\\\\hat{y} > y | B)$', fontsize=14)\n",
    "    plt.ylabel('$P(\\\\hat{y} > y | S)$', fontsize=14)\n",
    "    \n",
    "    plt.plot(bkg, sig, color='red',\n",
    "             lw=1, label='ROC curve, AUC = %0.2f)' % roc_auc)\n",
    "    \n",
    "    plt.plot([0, 1], [0, 1], color='blue', lw=1, linestyle='--')\n",
    "\n",
    "    plt.legend(loc=\"lower right\", fontsize=11)\n",
    "    fig.tight_layout()\n",
    "    plt.savefig(\"ROC.png\")\n",
    "\n",
    "plot_roc(y_true, y_hat)"
   ]
  },
  {
   "cell_type": "code",
   "execution_count": 96,
   "id": "864d0169",
   "metadata": {},
   "outputs": [],
   "source": [
    "def plot_data_to_bkg_ratio(y, yhat, epsilon):\n",
    "    from sklearn.metrics import roc_curve\n",
    "    import matplotlib.pyplot as plt\n",
    "    import numpy as np\n",
    "    \n",
    "    # Calculate ROC components\n",
    "    bkg, sig, thresholds = roc_curve(y, yhat)\n",
    "    \n",
    "    # Calculate p(data)\n",
    "    p_data = epsilon * sig + (1 - epsilon) * bkg\n",
    "    \n",
    "    # Calculate the ratio p(data)/p(bkg)\n",
    "    ratio = np.divide(p_data, bkg, out=np.zeros_like(p_data), where=bkg != 0)\n",
    "    \n",
    "    # Find the optimal threshold\n",
    "    max_ratio_index = np.argmax(ratio)\n",
    "    optimal_threshold = thresholds[max_ratio_index]\n",
    "    max_ratio = ratio[max_ratio_index]\n",
    "    \n",
    "    print(f\"Optimal Threshold: {optimal_threshold:.4f}\")\n",
    "    print(f\"Max p(data)/p(bkg) Ratio: {max_ratio:2f}\")\n",
    "    \n",
    "    # Plot the ratio\n",
    "    plt.figure(figsize=(6, 4))\n",
    "    plt.plot(thresholds, ratio, color='purple', lw=2)\n",
    "    plt.scatter(thresholds[max_ratio_index], max_ratio, color='red', label=f'Optimal Threshold: {optimal_threshold:.3f}')\n",
    "    plt.xlabel('Threshold', fontsize=14)\n",
    "    plt.ylabel('$ p_{data}(x)/ p_{bkg}(x)$', fontsize=14)\n",
    "    plt.title('Data-to-Background Ratio', fontsize=16)\n",
    "    plt.legend(fontsize=12)\n",
    "    plt.grid(True)\n",
    "    plt.tight_layout()\n",
    "    plt.savefig(\"Data_to_Bkg_Ratio.png\")\n",
    "    plt.show()\n"
   ]
  },
  {
   "cell_type": "code",
   "execution_count": 97,
   "id": "2504938d",
   "metadata": {},
   "outputs": [
    {
     "name": "stdout",
     "output_type": "stream",
     "text": [
      "Optimal Threshold: 0.9677\n",
      "Max p(data)/p(bkg) Ratio: 70.750000\n"
     ]
    },
    {
     "data": {
      "image/png": "[encoded data removed]",
      "text/plain": [
       "<Figure size 600x400 with 1 Axes>"
      ]
     },
     "metadata": {},
     "output_type": "display_data"
    }
   ],
   "source": [
    "plot_data_to_bkg_ratio(y_true, y_hat, 0.5)"
   ]
  },
  {
   "cell_type": "code",
   "execution_count": null,
   "id": "f295c357",
   "metadata": {},
   "outputs": [],
   "source": []
  },
  {
   "cell_type": "code",
   "execution_count": null,
   "id": "2d004f7e",
   "metadata": {},
   "outputs": [],
   "source": []
  }
 ],
 "metadata": {
  "kernelspec": {
   "display_name": "MLClass",
   "language": "python",
   "name": "python3"
  },
  "language_info": {
   "codemirror_mode": {
    "name": "ipython",
    "version": 3
   },
   "file_extension": ".py",
   "mimetype": "text/x-python",
   "name": "python",
   "nbconvert_exporter": "python",
   "pygments_lexer": "ipython3",
   "version": "3.12.6"
  }
 },
 "nbformat": 4,
 "nbformat_minor": 5
}
